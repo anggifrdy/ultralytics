{
 "cells": [
  {
   "cell_type": "code",
   "execution_count": 2,
   "id": "fea5d386",
   "metadata": {},
   "outputs": [],
   "source": [
    "import torch\n",
    "from ultralytics import YOLO\n",
    "from ultralytics.nn.modules import EConv  # Import your custom layer directly\n",
    "import traceback"
   ]
  },
  {
   "cell_type": "code",
   "execution_count": 3,
   "id": "609742a3",
   "metadata": {},
   "outputs": [
    {
     "name": "stdout",
     "output_type": "stream",
     "text": [
      "Testing standalone EConv:\n",
      "Created EConv: in=3, out=16, k=3, s=1\n",
      "Layer created: EConv(\n",
      "  (conv): Conv2d(3, 16, kernel_size=(3, 3), stride=(1, 1), padding=(1, 1), bias=False)\n",
      "  (bn): BatchNorm2d(16, eps=1e-05, momentum=0.1, affine=True, track_running_stats=True)\n",
      "  (act): SiLU()\n",
      "  (se): Sequential(\n",
      "    (0): AdaptiveAvgPool2d(output_size=1)\n",
      "    (1): Conv2d(16, 1, kernel_size=(1, 1), stride=(1, 1))\n",
      "    (2): ReLU()\n",
      "    (3): Conv2d(1, 16, kernel_size=(1, 1), stride=(1, 1))\n",
      "    (4): Sigmoid()\n",
      "  )\n",
      ")\n",
      "✓ Forward pass successful! Input shape: torch.Size([1, 3, 64, 64])\n",
      "✓ Output shape: torch.Size([1, 16, 64, 64])\n",
      "✓ Parameters count: 513 (expected ~1,000)\n"
     ]
    }
   ],
   "source": [
    "# 1. Test standalone layer\n",
    "print(\"Testing standalone EConv:\")\n",
    "try:\n",
    "    # Create EConv layer directly\n",
    "    layer = EConv(c1=3, c2=16, k=3, s=1)\n",
    "    print(f\"Layer created: {layer}\")\n",
    "\n",
    "    # Test forward pass\n",
    "    x = torch.randn(1, 3, 64, 64)\n",
    "    out = layer(x)\n",
    "    print(f\"✓ Forward pass successful! Input shape: {x.shape}\")\n",
    "    print(f\"✓ Output shape: {out.shape}\")\n",
    "\n",
    "    # Verify parameters\n",
    "    params = sum(p.numel() for p in layer.parameters())\n",
    "    print(f\"✓ Parameters count: {params:,} (expected ~1,000)\")\n",
    "except Exception as e:\n",
    "    print(f\"✗ Test failed: {e}\")\n",
    "    traceback.print_exc()"
   ]
  },
  {
   "cell_type": "code",
   "execution_count": 4,
   "id": "364c340b",
   "metadata": {},
   "outputs": [
    {
     "name": "stdout",
     "output_type": "stream",
     "text": [
      "\n",
      "Testing classification model:\n",
      "Created EConv: in=3, out=8, k=8, s=8\n",
      "YOLOv8n_econv_classify summary (fused): 14 layers, 2,259 parameters, 2,259 gradients, 0.0 GFLOPs\n",
      "Model loaded successfully!\n",
      "Total parameters: 2,259\n",
      "Output shape: torch.Size([1, 10])\n"
     ]
    }
   ],
   "source": [
    "print(\"\\nTesting classification model:\")\n",
    "try:\n",
    "    model = YOLO('yolov8n_econv_classify.yaml', task='classify')\n",
    "    print(\"Model loaded successfully!\")\n",
    "\n",
    "    # Verify parameters\n",
    "    total_params = sum(p.numel() for p in model.model.parameters())\n",
    "    print(f\"Total parameters: {total_params:,}\")\n",
    "\n",
    "    # Test forward pass directly\n",
    "    dummy = torch.rand(1, 3, 64, 64)  # [0-1] range\n",
    "\n",
    "    # Use model's forward method\n",
    "    with torch.no_grad():\n",
    "        output = model.model(dummy)\n",
    "\n",
    "    print(f\"Output shape: {output.shape}\")  # Should be [1, 10]\n",
    "except Exception as e:\n",
    "    print(f\"Error: {e}\")\n",
    "    traceback.print_exc()"
   ]
  },
  {
   "cell_type": "code",
   "execution_count": 5,
   "id": "1c4265ef",
   "metadata": {},
   "outputs": [
    {
     "name": "stdout",
     "output_type": "stream",
     "text": [
      "ClassificationModel(\n",
      "  (model): Sequential(\n",
      "    (0): EConv(\n",
      "      (conv): Conv2d(3, 8, kernel_size=(8, 8), stride=(8, 8), padding=(4, 4), bias=False)\n",
      "      (bn): BatchNorm2d(8, eps=1e-05, momentum=0.1, affine=True, track_running_stats=True)\n",
      "      (act): SiLU()\n",
      "      (se): Sequential(\n",
      "        (0): AdaptiveAvgPool2d(output_size=1)\n",
      "        (1): Conv2d(8, 1, kernel_size=(1, 1), stride=(1, 1))\n",
      "        (2): ReLU()\n",
      "        (3): Conv2d(1, 8, kernel_size=(1, 1), stride=(1, 1))\n",
      "        (4): Sigmoid()\n",
      "      )\n",
      "    )\n",
      "    (1): Conv(\n",
      "      (conv): Conv2d(8, 8, kernel_size=(3, 3), stride=(2, 2), padding=(1, 1), bias=False)\n",
      "      (bn): BatchNorm2d(8, eps=1e-05, momentum=0.1, affine=True, track_running_stats=True)\n",
      "      (act): SiLU(inplace=True)\n",
      "    )\n",
      "    (2): AdaptiveAvgPool2d(output_size=1)\n",
      "    (3): Flatten(start_dim=1, end_dim=-1)\n",
      "    (4): Linear(in_features=8, out_features=10, bias=True)\n",
      "  )\n",
      ")\n"
     ]
    }
   ],
   "source": [
    "print(model.model)"
   ]
  },
  {
   "cell_type": "code",
   "execution_count": 7,
   "id": "1ccacff3",
   "metadata": {},
   "outputs": [
    {
     "name": "stdout",
     "output_type": "stream",
     "text": [
      "\n",
      "Testing detection model:\n",
      "Created EConv: in=3, out=8, k=2, s=16\n",
      "Created EConv: in=8, out=8, k=2, s=64\n",
      "Model loaded successfully!\n",
      "Total parameters: 128,642\n",
      "Output shapes:\n",
      "  Output 1: torch.Size([4, 144, 1, 1])\n"
     ]
    }
   ],
   "source": [
    "print(\"\\nTesting detection model:\")\n",
    "try:\n",
    "    # Load model with detection task\n",
    "    model = YOLO('yolov8n_econv_detect.yaml', task='detect')\n",
    "    print(\"Model loaded successfully!\")\n",
    "\n",
    "    # Verify parameters\n",
    "    total_params = sum(p.numel() for p in model.model.parameters())\n",
    "    print(f\"Total parameters: {total_params:,}\")\n",
    "\n",
    "    # Test forward pass\n",
    "    dummy = torch.rand(4, 3, 640, 640)  # Standard detection input size\n",
    "\n",
    "    # Use model's forward method\n",
    "    with torch.no_grad():\n",
    "        output = model.model(dummy)\n",
    "\n",
    "    # Output should be a tuple of feature maps\n",
    "    print(\"Output shapes:\")\n",
    "    for i, x in enumerate(output):\n",
    "        if isinstance(x, torch.Tensor):\n",
    "            print(f\"  Output {i+1}: {x.shape}\")\n",
    "        else:\n",
    "            print(f\"  Output {i+1}: {type(x)}\")\n",
    "\n",
    "except Exception as e:\n",
    "    print(f\"Error: {e}\")\n",
    "    import traceback\n",
    "    traceback.print_exc()"
   ]
  }
 ],
 "metadata": {
  "kernelspec": {
   "display_name": ".venv",
   "language": "python",
   "name": "python3"
  },
  "language_info": {
   "codemirror_mode": {
    "name": "ipython",
    "version": 3
   },
   "file_extension": ".py",
   "mimetype": "text/x-python",
   "name": "python",
   "nbconvert_exporter": "python",
   "pygments_lexer": "ipython3",
   "version": "3.13.5"
  }
 },
 "nbformat": 4,
 "nbformat_minor": 5
}
